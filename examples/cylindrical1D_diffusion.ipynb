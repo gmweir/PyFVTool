{
 "cells": [
  {
   "cell_type": "markdown",
   "metadata": {},
   "source": [
    "# Diffusion in 1D cylindrical mesh. Analytic and PyFVTool\n",
    "\n",
    "v230419 - still in development\n",
    "\n",
    "This example will use Scipy to evaluate the analytic solution for a heat transfer problem, and PyFVTool to solve the same problem by the finite-volume method."
   ]
  },
  {
   "cell_type": "code",
   "execution_count": null,
   "metadata": {},
   "outputs": [],
   "source": [
    "import numpy as np\n",
    "from numpy import exp\n",
    "from scipy.special import jn_zeros, j0, j1\n",
    "import matplotlib.pyplot as plt"
   ]
  },
  {
   "cell_type": "code",
   "execution_count": null,
   "metadata": {},
   "outputs": [],
   "source": [
    "# enable access to parent directory in order to access pyfvtool module (without pip installation)\n",
    "from sys import path\n",
    "path.append('..')"
   ]
  },
  {
   "cell_type": "code",
   "execution_count": null,
   "metadata": {},
   "outputs": [],
   "source": [
    "# explicity import all required routines from pyfvtool\n",
    "from pyfvtool import createMeshCylindrical1D, createBC\n",
    "from pyfvtool import createCellVariable\n",
    "from pyfvtool import transientTerm, diffusionTerm\n",
    "from pyfvtool import harmonicMean, boundaryConditionTerm\n",
    "from pyfvtool import solvePDE\n",
    "from pyfvtool.utilities import get_CellVariable_profile1D"
   ]
  },
  {
   "cell_type": "markdown",
   "metadata": {},
   "source": [
    "## Introduction\n",
    "\n",
    "A cylindrical object having a certain radius and infinite length has a homogeneous initial temperature (or concentration distribution if we are modeling mass transfer). At $t = 0$ it is put into perfect contact with a reservoir providing a higher temperature (or concentration). How does the temperature (concentration) profile evolve inside the cylinder over time? How long for equilibrium at the new temperature?\n",
    "\n",
    "This could model, for instance, the initial step of cooking dry spaghetti, when the spaghetti is immersed in the boiling water, and it rapidly heats up from ambient temperature to the water temperature. The estimated duration for this step to complete is approximately 20 seconds, which makes the (still) dry spaghetti flexible enough so that it can be bent to fit into the pan (no, we do not break the spaghetti before putting it into the pan). The actual cooking process (starch gelatinization) can then start, which takes more time (don't overdo it - use a timer. Oh, and by the way, when water boils, it boils. Once the water is boiling, you can turn down the heat such that you get a gentle, steady boil. Any more heat power does not cook your spaghetti any faster.)."
   ]
  },
  {
   "cell_type": "markdown",
   "metadata": {},
   "source": [
    "## Analytic solution\n",
    "\n",
    "See:\n",
    "J. Crank (1975) \"The Mathematics of Diffusion\", 2nd Ed., \n",
    "Clarendon Press (Oxford), p. 78, section 5.3.\n",
    "\n",
    "Equation (5.22) reads\n",
    "\n",
    "$$\n",
    "\\frac{C-C_1}{C_0-C_1} = 1 - \\frac{2}{a}\n",
    "\\sum_{n=1}^{\\infty} \\frac{\\exp(-D\\alpha_n^2 t) J_0(r\\alpha_n)}\n",
    "{\\alpha_n J_1(a\\alpha_n)}\n",
    "$$\n",
    "\n",
    "\n",
    "Here we will evaluate and plot this equation."
   ]
  },
  {
   "cell_type": "code",
   "execution_count": null,
   "metadata": {},
   "outputs": [],
   "source": [
    "def crank522(r, t):\n",
    "    '''evaluate eqn 5.22 for a given r,t\n",
    "    \n",
    "    the following global variables need to be set\n",
    "    a : radius of cylinder\n",
    "    D : diffusion coefficient\n",
    "    Nterm : number of terms to be evaluated\n",
    "    '''\n",
    "    global a\n",
    "    global D\n",
    "    global Nterm\n",
    "    \n",
    "    aalp = jn_zeros(0,Nterm)\n",
    "    alpha = aalp/a\n",
    "    \n",
    "    XJ0 = exp(-D * alpha**2 * t) * j0(r*alpha)\n",
    "    AJ1 = alpha * j1(aalp)\n",
    "    \n",
    "    S = np.sum(XJ0/AJ1)\n",
    "    \n",
    "    return 1.0 - (2.0/a) * S"
   ]
  },
  {
   "cell_type": "code",
   "execution_count": null,
   "metadata": {},
   "outputs": [],
   "source": [
    "# set world parameters\n",
    "a = 1.0\n",
    "D = 1.0\n",
    "Nterm = 20"
   ]
  },
  {
   "cell_type": "code",
   "execution_count": null,
   "metadata": {},
   "outputs": [],
   "source": [
    "# create radial axis\n",
    "nr = 200\n",
    "r = np.linspace(0.,1.,nr)"
   ]
  },
  {
   "cell_type": "code",
   "execution_count": null,
   "metadata": {},
   "outputs": [],
   "source": [
    "# evaluate crank522 at different points in time, and plot\n",
    "tpts = [0.005, 0.01, 0.02, 0.03, 0.04, 0.06, 0.08, 0.1, 0.15,\n",
    "          0.2, 0.3, 0.4, 0.6, 0.8]\n",
    "nt = len(tpts)\n",
    "\n",
    "c_anal = np.zeros((nr, nt), dtype=np.float64)\n",
    "for ii, tt in enumerate(tpts):\n",
    "    c_anal[:, ii] = np.array([crank522(rr,tt) for rr in r])\n",
    "    \n",
    "plt.plot(r, c_anal)\n",
    "plt.xlabel('rel. radial position')\n",
    "plt.ylabel('rel. temperature')\n",
    "plt.title('analytic solution')\n",
    "plt.show()"
   ]
  },
  {
   "cell_type": "markdown",
   "metadata": {},
   "source": [
    "## Finite-volume solution with PyFVTool"
   ]
  },
  {
   "cell_type": "markdown",
   "metadata": {},
   "source": [
    "Define 1D cylindrical grid with a variable called 'c', initialized to an initial value of 0.0 everywhere."
   ]
  },
  {
   "cell_type": "code",
   "execution_count": null,
   "metadata": {},
   "outputs": [],
   "source": [
    "Nr = 50\n",
    "Lr = 1.0\n",
    "Dcoeff = 1.0\n",
    "c_outer = 1.0 # (outer) boundary concentration\n",
    "c0 = 0.0\n",
    "deltat = 0.001"
   ]
  },
  {
   "cell_type": "code",
   "execution_count": null,
   "metadata": {},
   "outputs": [],
   "source": [
    "mesh = createMeshCylindrical1D(Nr, Lr)"
   ]
  },
  {
   "cell_type": "markdown",
   "metadata": {},
   "source": [
    "Apply boundary condition: outer wall will be kept at 1.0. (Dirichlet boundary condition)."
   ]
  },
  {
   "cell_type": "code",
   "execution_count": null,
   "metadata": {},
   "outputs": [],
   "source": [
    "bc = createBC(mesh)"
   ]
  },
  {
   "cell_type": "code",
   "execution_count": null,
   "metadata": {},
   "outputs": [],
   "source": [
    "# switch the right (=outer) boundary to Dirichlet: fixed concentration\n",
    "bc.right.a[:] = 0.0\n",
    "bc.right.b[:] = 1.0\n",
    "bc.right.c[:] = c_outer"
   ]
  },
  {
   "cell_type": "code",
   "execution_count": null,
   "metadata": {},
   "outputs": [],
   "source": [
    "c = createCellVariable(mesh, c0, bc)"
   ]
  },
  {
   "cell_type": "code",
   "execution_count": null,
   "metadata": {},
   "outputs": [],
   "source": [
    "D = createCellVariable(mesh, Dcoeff) # diffusion coefficient\n",
    "alfa = createCellVariable(mesh, 1.0) # transientterm coefficient"
   ]
  },
  {
   "cell_type": "code",
   "execution_count": null,
   "metadata": {},
   "outputs": [],
   "source": [
    "t = 0.0"
   ]
  },
  {
   "cell_type": "markdown",
   "metadata": {},
   "source": [
    "Now, we solve the equation by taking time steps. We plot the solution at several specified time-points."
   ]
  },
  {
   "cell_type": "code",
   "execution_count": null,
   "metadata": {},
   "outputs": [],
   "source": [
    "c_num = []\n",
    "sample_i = [5,10,20,30,40,60,80,100,150,200,300,400,600,800]\n",
    "for i in range(0,1001):\n",
    "    if i in sample_i:\n",
    "        x, phi = get_CellVariable_profile1D(c)\n",
    "        plt.plot(x, phi)\n",
    "\n",
    "        # append the solution\n",
    "        c_num.append(np.copy(phi))\n",
    "    [M_trans, RHS_trans] = transientTerm(c, deltat, alfa)\n",
    "    Dave = harmonicMean(D)\n",
    "    Mdiff = diffusionTerm(Dave)\n",
    "    [Mbc, RHSbc] = boundaryConditionTerm(bc)\n",
    "    M = M_trans - Mdiff + Mbc\n",
    "    RHS = RHS_trans + RHSbc\n",
    "    c = solvePDE(mesh, M, RHS)\n",
    "    t += deltat\n",
    "    c_old = c\n",
    "plt.xlabel('rel. radial position')\n",
    "plt.ylabel('rel. temperature')\n",
    "plt.title('FVM (PyFVTool) solution')\n",
    "plt.show()"
   ]
  },
  {
   "cell_type": "code",
   "execution_count": null,
   "metadata": {},
   "outputs": [],
   "source": [
    "# Difference in numerical / analytic solution\n",
    "c_num = np.asarray(c_num)\n",
    "\n",
    "c_ana = []\n",
    "for ii in range(c_anal.shape[1]):\n",
    "    c_ana.append(np.interp(x, r, c_anal[:,ii]))    \n",
    "c_ana = np.asarray(c_ana)\n",
    "    \n",
    "\n",
    "hfig, (cax1, cax2) = plt.subplots(2, 1, sharex=True)\n",
    "\n",
    "cax1.plot(x, (c_num - c_ana).T, '-')\n",
    "cax2.plot(x, 100.0*np.divide((c_ana - c_num), c_ana, where=c_ana!=0.0, out=np.nan*np.ones_like(c_num)).T, '-')\n",
    "\n",
    "cax2.set_ylim((-100, 100))"
   ]
  },
  {
   "cell_type": "markdown",
   "metadata": {},
   "source": [
    "## End\n",
    "\n",
    "### TODO\n",
    "- Add the mathematical formulation of the problem\n",
    "- Quantitative comparison between analytic and PyFVTool solutions\n",
    "- Further tweak `get_CellVariable_profile1D` and see if it can be included as a method of `CellVariable`"
   ]
  },
  {
   "cell_type": "code",
   "execution_count": null,
   "metadata": {},
   "outputs": [],
   "source": []
  },
  {
   "cell_type": "code",
   "execution_count": null,
   "metadata": {},
   "outputs": [],
   "source": []
  }
 ],
 "metadata": {
  "kernelspec": {
   "display_name": "Python 3 (ipykernel)",
   "language": "python",
   "name": "python3"
  },
  "language_info": {
   "codemirror_mode": {
    "name": "ipython",
    "version": 3
   },
   "file_extension": ".py",
   "mimetype": "text/x-python",
   "name": "python",
   "nbconvert_exporter": "python",
   "pygments_lexer": "ipython3",
   "version": "3.7.3"
  }
 },
 "nbformat": 4,
 "nbformat_minor": 4
}
